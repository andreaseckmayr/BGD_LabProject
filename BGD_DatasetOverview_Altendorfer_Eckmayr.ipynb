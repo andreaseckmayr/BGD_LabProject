{
 "cells": [
  {
   "cell_type": "markdown",
   "id": "13df6975",
   "metadata": {},
   "source": [
    "# Datensatzbeschreibung\n",
    "## Gruppe Altendorfer, Eckmayr"
   ]
  },
  {
   "cell_type": "markdown",
   "id": "5eab9e5f",
   "metadata": {},
   "source": [
    "Datensatz: StudentsPerformance"
   ]
  },
  {
   "cell_type": "markdown",
   "id": "085b5265",
   "metadata": {},
   "source": [
    "Der von uns gewählte Datensatz enthält Daten zu Ergebnissen in den Fächern Mathematik, Lesen und Schreiben von 1000 US-amerikanischen Highschool Schülern. Wir möchten in der weiteren Analyse untersuchen, ob Zusammenhänge zwischen einzelnen/mehreren Faktoren und den erzielten Testergebnissen hergestellt und durch die angegeben Features der Test Score vorhergesagt werden kann sowie welche Variablen die größte Signifikanz aufweisen.\n",
    "Der Datensatz ist auf [Kaggle](https://www.kaggle.com/datasets/spscientist/students-performance-in-exams) verfügbar."
   ]
  },
  {
   "cell_type": "markdown",
   "id": "2b1e5cbe",
   "metadata": {},
   "source": [
    "### Konkret sind folgende Variablen enthalten:"
   ]
  },
  {
   "cell_type": "code",
   "execution_count": 22,
   "id": "06c2019a",
   "metadata": {},
   "outputs": [
    {
     "name": "stdout",
     "output_type": "stream",
     "text": [
      "['gender', 'race/ethnicity', 'parental level of education', 'lunch', 'test preparation course', 'math score', 'reading score', 'writing score']\n"
     ]
    }
   ],
   "source": [
    "import pandas as pd\n",
    "import matplotlib.pyplot as plt\n",
    "import seaborn as sns\n",
    "\n",
    "df = pd.read_csv(\"StudentsPerformance.csv\")\n",
    "\n",
    "variablen = df.columns.tolist()\n",
    "print(variablen)"
   ]
  },
  {
   "cell_type": "code",
   "execution_count": 13,
   "id": "9fbec40d",
   "metadata": {},
   "outputs": [
    {
     "data": {
      "text/html": [
       "<div>\n",
       "<style scoped>\n",
       "    .dataframe tbody tr th:only-of-type {\n",
       "        vertical-align: middle;\n",
       "    }\n",
       "\n",
       "    .dataframe tbody tr th {\n",
       "        vertical-align: top;\n",
       "    }\n",
       "\n",
       "    .dataframe thead th {\n",
       "        text-align: right;\n",
       "    }\n",
       "</style>\n",
       "<table border=\"1\" class=\"dataframe\">\n",
       "  <thead>\n",
       "    <tr style=\"text-align: right;\">\n",
       "      <th></th>\n",
       "      <th>gender</th>\n",
       "      <th>race/ethnicity</th>\n",
       "      <th>parental level of education</th>\n",
       "      <th>lunch</th>\n",
       "      <th>test preparation course</th>\n",
       "      <th>math score</th>\n",
       "      <th>reading score</th>\n",
       "      <th>writing score</th>\n",
       "    </tr>\n",
       "  </thead>\n",
       "  <tbody>\n",
       "    <tr>\n",
       "      <th>0</th>\n",
       "      <td>female</td>\n",
       "      <td>group B</td>\n",
       "      <td>bachelor's degree</td>\n",
       "      <td>standard</td>\n",
       "      <td>none</td>\n",
       "      <td>72</td>\n",
       "      <td>72</td>\n",
       "      <td>74</td>\n",
       "    </tr>\n",
       "    <tr>\n",
       "      <th>1</th>\n",
       "      <td>female</td>\n",
       "      <td>group C</td>\n",
       "      <td>some college</td>\n",
       "      <td>standard</td>\n",
       "      <td>completed</td>\n",
       "      <td>69</td>\n",
       "      <td>90</td>\n",
       "      <td>88</td>\n",
       "    </tr>\n",
       "    <tr>\n",
       "      <th>2</th>\n",
       "      <td>female</td>\n",
       "      <td>group B</td>\n",
       "      <td>master's degree</td>\n",
       "      <td>standard</td>\n",
       "      <td>none</td>\n",
       "      <td>90</td>\n",
       "      <td>95</td>\n",
       "      <td>93</td>\n",
       "    </tr>\n",
       "    <tr>\n",
       "      <th>3</th>\n",
       "      <td>male</td>\n",
       "      <td>group A</td>\n",
       "      <td>associate's degree</td>\n",
       "      <td>free/reduced</td>\n",
       "      <td>none</td>\n",
       "      <td>47</td>\n",
       "      <td>57</td>\n",
       "      <td>44</td>\n",
       "    </tr>\n",
       "    <tr>\n",
       "      <th>4</th>\n",
       "      <td>male</td>\n",
       "      <td>group C</td>\n",
       "      <td>some college</td>\n",
       "      <td>standard</td>\n",
       "      <td>none</td>\n",
       "      <td>76</td>\n",
       "      <td>78</td>\n",
       "      <td>75</td>\n",
       "    </tr>\n",
       "  </tbody>\n",
       "</table>\n",
       "</div>"
      ],
      "text/plain": [
       "   gender race/ethnicity parental level of education         lunch  \\\n",
       "0  female        group B           bachelor's degree      standard   \n",
       "1  female        group C                some college      standard   \n",
       "2  female        group B             master's degree      standard   \n",
       "3    male        group A          associate's degree  free/reduced   \n",
       "4    male        group C                some college      standard   \n",
       "\n",
       "  test preparation course  math score  reading score  writing score  \n",
       "0                    none          72             72             74  \n",
       "1               completed          69             90             88  \n",
       "2                    none          90             95             93  \n",
       "3                    none          47             57             44  \n",
       "4                    none          76             78             75  "
      ]
     },
     "execution_count": 13,
     "metadata": {},
     "output_type": "execute_result"
    }
   ],
   "source": [
    "df.head()"
   ]
  },
  {
   "cell_type": "markdown",
   "id": "e4bec7af",
   "metadata": {},
   "source": [
    "### Ein näherer Blick auf die jeweiligen Werte der Variablen:"
   ]
  },
  {
   "cell_type": "code",
   "execution_count": 12,
   "id": "e12058cc",
   "metadata": {},
   "outputs": [
    {
     "name": "stdout",
     "output_type": "stream",
     "text": [
      "gender: ['female' 'male']\n",
      "race/ethnicity: ['group B' 'group C' 'group A' 'group D' 'group E']\n",
      "parental level of education: [\"bachelor's degree\" 'some college' \"master's degree\" \"associate's degree\"\n",
      " 'high school' 'some high school']\n",
      "lunch: ['standard' 'free/reduced']\n",
      "test preparation course: ['none' 'completed']\n"
     ]
    }
   ],
   "source": [
    "exclude = [\"math score\", \"reading score\", \"writing score\"]\n",
    "\n",
    "for variable in df:\n",
    "    if variable not in exclude:\n",
    "        print(f\"{variable}: {df[variable].unique()}\")"
   ]
  },
  {
   "cell_type": "markdown",
   "id": "13da5ced",
   "metadata": {},
   "source": [
    "### Zusammenfassung des Datensatzes:"
   ]
  },
  {
   "cell_type": "code",
   "execution_count": 14,
   "id": "ab4e4cf5",
   "metadata": {},
   "outputs": [
    {
     "name": "stdout",
     "output_type": "stream",
     "text": [
      "<class 'pandas.core.frame.DataFrame'>\n",
      "RangeIndex: 1000 entries, 0 to 999\n",
      "Data columns (total 8 columns):\n",
      " #   Column                       Non-Null Count  Dtype \n",
      "---  ------                       --------------  ----- \n",
      " 0   gender                       1000 non-null   object\n",
      " 1   race/ethnicity               1000 non-null   object\n",
      " 2   parental level of education  1000 non-null   object\n",
      " 3   lunch                        1000 non-null   object\n",
      " 4   test preparation course      1000 non-null   object\n",
      " 5   math score                   1000 non-null   int64 \n",
      " 6   reading score                1000 non-null   int64 \n",
      " 7   writing score                1000 non-null   int64 \n",
      "dtypes: int64(3), object(5)\n",
      "memory usage: 62.6+ KB\n"
     ]
    }
   ],
   "source": [
    "df.info()"
   ]
  },
  {
   "cell_type": "markdown",
   "id": "a836133a",
   "metadata": {},
   "source": [
    "## Forschungsfragen"
   ]
  },
  {
   "cell_type": "markdown",
   "id": "bae43ea3",
   "metadata": {},
   "source": [
    "Aus dem vorliegenden Datensatz können einige spannende Forschungsfragen abgeleitet werden. Wir wollen in unserer Analyse einige Variablen herausgreifen und diese hinsichtlich der erzielten Testergebnisse beurteilen und die Resultate visualisieren. Beispielhaft für das Geschlecht:"
   ]
  },
  {
   "cell_type": "code",
   "execution_count": 31,
   "id": "e002d0e8",
   "metadata": {},
   "outputs": [
    {
     "name": "stderr",
     "output_type": "stream",
     "text": [
      "C:\\Users\\fabia\\AppData\\Local\\Temp\\ipykernel_8100\\3083268956.py:7: MatplotlibDeprecationWarning: Auto-removal of overlapping axes is deprecated since 3.6 and will be removed two minor releases later; explicitly call ax.remove() as needed.\n",
      "  plt.subplot(1,3, idx+1)\n"
     ]
    },
    {
     "data": {
      "image/png": "[encoded data removed]",
      "text/plain": [
       "<Figure size 300x200 with 3 Axes>"
      ]
     },
     "metadata": {},
     "output_type": "display_data"
    }
   ],
   "source": [
    "import seaborn as sns\n",
    "import matplotlib.pyplot as plt\n",
    "\n",
    "fig, ax = plt.subplots(figsize=(3,2))\n",
    "fig.subplots_adjust(hspace=0.8, wspace=0.8, left = 0.2, right = 1.5)\n",
    "for idx in range(3):\n",
    "    plt.subplot(1,3, idx+1)\n",
    "    gender_df = df.groupby(\"gender\")[list(df.columns[-3:])[idx]].describe()\n",
    "    sns.barplot(x=gender_df.index, y=gender_df.loc[:,\"mean\"].values)\n",
    "    plt.ylabel(\"score\")\n",
    "    plt.title(list(df.columns[-3:])[idx])\n",
    "    \n",
    "plt.show()\n"
   ]
  },
  {
   "cell_type": "markdown",
   "id": "00ec9bd6",
   "metadata": {},
   "source": [
    "### Forschungsfrage 1\n",
    "Kann ein Unterschied zwischen den ethnischen Gruppen in den erzielten Prüfungsergebnissen beobachtet werden?"
   ]
  },
  {
   "cell_type": "markdown",
   "id": "1c41da89",
   "metadata": {},
   "source": [
    "### Forschungsfrage 2\n",
    "Beeinflusst das Bildungsniveau der Eltern die Wahrscheinlichkeit einen Vorbereitungskurs zu absolvieren und wirkt sich die Absolvierung eines solchen auf die Prüfungsergebnisse aus?"
   ]
  },
  {
   "cell_type": "markdown",
   "id": "5333b6e9",
   "metadata": {},
   "source": [
    "### Forschungsfrage 3\n",
    "Besteht ein statistisch signifikanter Zusammenhang zwischen der Bereitstellung eines Mittagessens und den Leistungen in Prüfungen, wobei höhere Prüfungsergebnisse bei Schülern beobachtet werden, die Zugang zu einem Mittagessen haben, im Vergleich zu Schülern ohne diesen Zugang?"
   ]
  },
  {
   "cell_type": "markdown",
   "id": "8111cb14",
   "metadata": {},
   "source": [
    "### Forschungsfrage 4 - Machine Learning\n",
    "Kann unter Verwendung der Variablen 'Parental Level of Education', 'Lunch' und 'Test Preperation Course' mittels einer ausgewählten Machine Learning Methode die Note des Prüfungsergebnisses vorhergesagt werden, wobei die Prüfungsergebnisse in Noten nach dem österreichischen Schulsystem (1-5) eingeteilt werden?"
   ]
  }
 ],
 "metadata": {
  "hide_input": false,
  "kernelspec": {
   "display_name": "Python 3 (ipykernel)",
   "language": "python",
   "name": "python3"
  },
  "language_info": {
   "codemirror_mode": {
    "name": "ipython",
    "version": 3
   },
   "file_extension": ".py",
   "mimetype": "text/x-python",
   "name": "python",
   "nbconvert_exporter": "python",
   "pygments_lexer": "ipython3",
   "version": "3.8.18"
  }
 },
 "nbformat": 4,
 "nbformat_minor": 5
}
